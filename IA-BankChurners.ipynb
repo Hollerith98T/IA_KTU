{
 "cells": [
  {
   "cell_type": "code",
   "execution_count": 1,
   "metadata": {},
   "outputs": [
    {
     "data": {
      "text/html": [
       "<div>\n",
       "<style scoped>\n",
       "    .dataframe tbody tr th:only-of-type {\n",
       "        vertical-align: middle;\n",
       "    }\n",
       "\n",
       "    .dataframe tbody tr th {\n",
       "        vertical-align: top;\n",
       "    }\n",
       "\n",
       "    .dataframe thead th {\n",
       "        text-align: right;\n",
       "    }\n",
       "</style>\n",
       "<table border=\"1\" class=\"dataframe\">\n",
       "  <thead>\n",
       "    <tr style=\"text-align: right;\">\n",
       "      <th></th>\n",
       "      <th>CLIENTNUM</th>\n",
       "      <th>Attrition_Flag</th>\n",
       "      <th>Customer_Age</th>\n",
       "      <th>Gender</th>\n",
       "      <th>Dependent_count</th>\n",
       "      <th>Education_Level</th>\n",
       "      <th>Marital_Status</th>\n",
       "      <th>Income_Category</th>\n",
       "      <th>Card_Category</th>\n",
       "      <th>Months_on_book</th>\n",
       "      <th>Total_Relationship_Count</th>\n",
       "      <th>Months_Inactive_12_mon</th>\n",
       "    </tr>\n",
       "  </thead>\n",
       "  <tbody>\n",
       "    <tr>\n",
       "      <th>0</th>\n",
       "      <td>768805383</td>\n",
       "      <td>Existing Customer</td>\n",
       "      <td>45</td>\n",
       "      <td>M</td>\n",
       "      <td>3</td>\n",
       "      <td>High School</td>\n",
       "      <td>Married</td>\n",
       "      <td>$60K - $80K</td>\n",
       "      <td>Blue</td>\n",
       "      <td>39</td>\n",
       "      <td>5</td>\n",
       "      <td>1</td>\n",
       "    </tr>\n",
       "    <tr>\n",
       "      <th>1</th>\n",
       "      <td>818770008</td>\n",
       "      <td>Existing Customer</td>\n",
       "      <td>49</td>\n",
       "      <td>F</td>\n",
       "      <td>5</td>\n",
       "      <td>Graduate</td>\n",
       "      <td>Single</td>\n",
       "      <td>Less than $40K</td>\n",
       "      <td>Blue</td>\n",
       "      <td>44</td>\n",
       "      <td>6</td>\n",
       "      <td>1</td>\n",
       "    </tr>\n",
       "    <tr>\n",
       "      <th>2</th>\n",
       "      <td>713982108</td>\n",
       "      <td>Existing Customer</td>\n",
       "      <td>51</td>\n",
       "      <td>M</td>\n",
       "      <td>3</td>\n",
       "      <td>Graduate</td>\n",
       "      <td>Married</td>\n",
       "      <td>$80K - $120K</td>\n",
       "      <td>Blue</td>\n",
       "      <td>36</td>\n",
       "      <td>4</td>\n",
       "      <td>1</td>\n",
       "    </tr>\n",
       "    <tr>\n",
       "      <th>3</th>\n",
       "      <td>769911858</td>\n",
       "      <td>Existing Customer</td>\n",
       "      <td>40</td>\n",
       "      <td>F</td>\n",
       "      <td>4</td>\n",
       "      <td>High School</td>\n",
       "      <td>Unknown</td>\n",
       "      <td>Less than $40K</td>\n",
       "      <td>Blue</td>\n",
       "      <td>34</td>\n",
       "      <td>3</td>\n",
       "      <td>4</td>\n",
       "    </tr>\n",
       "    <tr>\n",
       "      <th>4</th>\n",
       "      <td>709106358</td>\n",
       "      <td>Existing Customer</td>\n",
       "      <td>40</td>\n",
       "      <td>M</td>\n",
       "      <td>3</td>\n",
       "      <td>Uneducated</td>\n",
       "      <td>Married</td>\n",
       "      <td>$60K - $80K</td>\n",
       "      <td>Blue</td>\n",
       "      <td>21</td>\n",
       "      <td>5</td>\n",
       "      <td>1</td>\n",
       "    </tr>\n",
       "    <tr>\n",
       "      <th>...</th>\n",
       "      <td>...</td>\n",
       "      <td>...</td>\n",
       "      <td>...</td>\n",
       "      <td>...</td>\n",
       "      <td>...</td>\n",
       "      <td>...</td>\n",
       "      <td>...</td>\n",
       "      <td>...</td>\n",
       "      <td>...</td>\n",
       "      <td>...</td>\n",
       "      <td>...</td>\n",
       "      <td>...</td>\n",
       "    </tr>\n",
       "    <tr>\n",
       "      <th>10122</th>\n",
       "      <td>772366833</td>\n",
       "      <td>Existing Customer</td>\n",
       "      <td>50</td>\n",
       "      <td>M</td>\n",
       "      <td>2</td>\n",
       "      <td>Graduate</td>\n",
       "      <td>Single</td>\n",
       "      <td>$40K - $60K</td>\n",
       "      <td>Blue</td>\n",
       "      <td>40</td>\n",
       "      <td>3</td>\n",
       "      <td>2</td>\n",
       "    </tr>\n",
       "    <tr>\n",
       "      <th>10123</th>\n",
       "      <td>710638233</td>\n",
       "      <td>Attrited Customer</td>\n",
       "      <td>41</td>\n",
       "      <td>M</td>\n",
       "      <td>2</td>\n",
       "      <td>Unknown</td>\n",
       "      <td>Divorced</td>\n",
       "      <td>$40K - $60K</td>\n",
       "      <td>Blue</td>\n",
       "      <td>25</td>\n",
       "      <td>4</td>\n",
       "      <td>2</td>\n",
       "    </tr>\n",
       "    <tr>\n",
       "      <th>10124</th>\n",
       "      <td>716506083</td>\n",
       "      <td>Attrited Customer</td>\n",
       "      <td>44</td>\n",
       "      <td>F</td>\n",
       "      <td>1</td>\n",
       "      <td>High School</td>\n",
       "      <td>Married</td>\n",
       "      <td>Less than $40K</td>\n",
       "      <td>Blue</td>\n",
       "      <td>36</td>\n",
       "      <td>5</td>\n",
       "      <td>3</td>\n",
       "    </tr>\n",
       "    <tr>\n",
       "      <th>10125</th>\n",
       "      <td>717406983</td>\n",
       "      <td>Attrited Customer</td>\n",
       "      <td>30</td>\n",
       "      <td>M</td>\n",
       "      <td>2</td>\n",
       "      <td>Graduate</td>\n",
       "      <td>Unknown</td>\n",
       "      <td>$40K - $60K</td>\n",
       "      <td>Blue</td>\n",
       "      <td>36</td>\n",
       "      <td>4</td>\n",
       "      <td>3</td>\n",
       "    </tr>\n",
       "    <tr>\n",
       "      <th>10126</th>\n",
       "      <td>714337233</td>\n",
       "      <td>Attrited Customer</td>\n",
       "      <td>43</td>\n",
       "      <td>F</td>\n",
       "      <td>2</td>\n",
       "      <td>Graduate</td>\n",
       "      <td>Married</td>\n",
       "      <td>Less than $40K</td>\n",
       "      <td>Silver</td>\n",
       "      <td>25</td>\n",
       "      <td>6</td>\n",
       "      <td>2</td>\n",
       "    </tr>\n",
       "  </tbody>\n",
       "</table>\n",
       "<p>10127 rows × 12 columns</p>\n",
       "</div>"
      ],
      "text/plain": [
       "       CLIENTNUM     Attrition_Flag  Customer_Age Gender  Dependent_count  \\\n",
       "0      768805383  Existing Customer            45      M                3   \n",
       "1      818770008  Existing Customer            49      F                5   \n",
       "2      713982108  Existing Customer            51      M                3   \n",
       "3      769911858  Existing Customer            40      F                4   \n",
       "4      709106358  Existing Customer            40      M                3   \n",
       "...          ...                ...           ...    ...              ...   \n",
       "10122  772366833  Existing Customer            50      M                2   \n",
       "10123  710638233  Attrited Customer            41      M                2   \n",
       "10124  716506083  Attrited Customer            44      F                1   \n",
       "10125  717406983  Attrited Customer            30      M                2   \n",
       "10126  714337233  Attrited Customer            43      F                2   \n",
       "\n",
       "      Education_Level Marital_Status Income_Category Card_Category  \\\n",
       "0         High School        Married     $60K - $80K          Blue   \n",
       "1            Graduate         Single  Less than $40K          Blue   \n",
       "2            Graduate        Married    $80K - $120K          Blue   \n",
       "3         High School        Unknown  Less than $40K          Blue   \n",
       "4          Uneducated        Married     $60K - $80K          Blue   \n",
       "...               ...            ...             ...           ...   \n",
       "10122        Graduate         Single     $40K - $60K          Blue   \n",
       "10123         Unknown       Divorced     $40K - $60K          Blue   \n",
       "10124     High School        Married  Less than $40K          Blue   \n",
       "10125        Graduate        Unknown     $40K - $60K          Blue   \n",
       "10126        Graduate        Married  Less than $40K        Silver   \n",
       "\n",
       "       Months_on_book  Total_Relationship_Count  Months_Inactive_12_mon  \n",
       "0                  39                         5                       1  \n",
       "1                  44                         6                       1  \n",
       "2                  36                         4                       1  \n",
       "3                  34                         3                       4  \n",
       "4                  21                         5                       1  \n",
       "...               ...                       ...                     ...  \n",
       "10122              40                         3                       2  \n",
       "10123              25                         4                       2  \n",
       "10124              36                         5                       3  \n",
       "10125              36                         4                       3  \n",
       "10126              25                         6                       2  \n",
       "\n",
       "[10127 rows x 12 columns]"
      ]
     },
     "metadata": {},
     "output_type": "display_data"
    }
   ],
   "source": [
    "#PANDAS IMPORT\n",
    "from sklearn import preprocessing\n",
    "import pandas as pd\n",
    "import numpy as np\n",
    "import matplotlib.pyplot as plt\n",
    "from IPython.display import display, Markdown, Latex\n",
    "%matplotlib inline\n",
    "\n",
    "df = pd.read_csv ('BankChurners.csv')\n",
    "df.drop(columns=['Total_Revolving_Bal', 'Avg_Open_To_Buy', 'Total_Amt_Chng_Q4_Q1', 'Total_Ct_Chng_Q4_Q1',\n",
    "                 'Naive_Bayes_Classifier_Attrition_Flag_Card_Category_Contacts_Count_12_mon_Dependent_count_Education_Level_Months_Inactive_12_mon_2',\n",
    "                 'Naive_Bayes_Classifier_Attrition_Flag_Card_Category_Contacts_Count_12_mon_Dependent_count_Education_Level_Months_Inactive_12_mon_1',\n",
    "                 'Avg_Utilization_Ratio', 'Contacts_Count_12_mon', 'Credit_Limit', 'Total_Trans_Amt', 'Total_Trans_Ct'], inplace=True)\n",
    "Ndf = df.select_dtypes(include='number', exclude=None)\n",
    "Ldf = df.select_dtypes(include=None, exclude='number')\n",
    "display(df)"
   ]
  },
  {
   "cell_type": "code",
   "execution_count": 2,
   "metadata": {},
   "outputs": [],
   "source": [
    "#NUMERIC DATAFRAME\n",
    "TotNrVl = Ndf.count(0)\n",
    "percent_missing = Ndf.isnull().sum() * 100 / len(df)\n",
    "cardinality = Ndf.nunique(axis=0, dropna=True)\n",
    "minimum = Ndf.min(axis=0)\n",
    "maximum = Ndf.max(axis=0)\n",
    "q1 = Ndf.quantile(q=0.25, axis=0)\n",
    "q3 = Ndf.quantile(q=0.75, axis=0)\n",
    "average = Ndf.mean(axis=0)\n",
    "median = Ndf.quantile(q=0.50, axis=0)\n",
    "standDeviation = Ndf.std(axis=0)"
   ]
  },
  {
   "cell_type": "code",
   "execution_count": 3,
   "metadata": {},
   "outputs": [
    {
     "data": {
      "text/html": [
       "<div>\n",
       "<style scoped>\n",
       "    .dataframe tbody tr th:only-of-type {\n",
       "        vertical-align: middle;\n",
       "    }\n",
       "\n",
       "    .dataframe tbody tr th {\n",
       "        vertical-align: top;\n",
       "    }\n",
       "\n",
       "    .dataframe thead th {\n",
       "        text-align: right;\n",
       "    }\n",
       "</style>\n",
       "<table border=\"1\" class=\"dataframe\">\n",
       "  <thead>\n",
       "    <tr style=\"text-align: right;\">\n",
       "      <th></th>\n",
       "      <th>TotNrVl</th>\n",
       "      <th>Percent_missing</th>\n",
       "      <th>Cardinality</th>\n",
       "      <th>Min</th>\n",
       "      <th>Max</th>\n",
       "      <th>Q1</th>\n",
       "      <th>Q3</th>\n",
       "      <th>Average</th>\n",
       "      <th>Median</th>\n",
       "      <th>StandDeviation</th>\n",
       "    </tr>\n",
       "  </thead>\n",
       "  <tbody>\n",
       "    <tr>\n",
       "      <th>CLIENTNUM</th>\n",
       "      <td>10127</td>\n",
       "      <td>0.0</td>\n",
       "      <td>10127</td>\n",
       "      <td>708082083</td>\n",
       "      <td>828343083</td>\n",
       "      <td>713036770.5</td>\n",
       "      <td>773143533.0</td>\n",
       "      <td>7.391776e+08</td>\n",
       "      <td>717926358.0</td>\n",
       "      <td>3.690378e+07</td>\n",
       "    </tr>\n",
       "    <tr>\n",
       "      <th>Customer_Age</th>\n",
       "      <td>10127</td>\n",
       "      <td>0.0</td>\n",
       "      <td>45</td>\n",
       "      <td>26</td>\n",
       "      <td>73</td>\n",
       "      <td>41.0</td>\n",
       "      <td>52.0</td>\n",
       "      <td>4.632596e+01</td>\n",
       "      <td>46.0</td>\n",
       "      <td>8.016814e+00</td>\n",
       "    </tr>\n",
       "    <tr>\n",
       "      <th>Dependent_count</th>\n",
       "      <td>10127</td>\n",
       "      <td>0.0</td>\n",
       "      <td>6</td>\n",
       "      <td>0</td>\n",
       "      <td>5</td>\n",
       "      <td>1.0</td>\n",
       "      <td>3.0</td>\n",
       "      <td>2.346203e+00</td>\n",
       "      <td>2.0</td>\n",
       "      <td>1.298908e+00</td>\n",
       "    </tr>\n",
       "    <tr>\n",
       "      <th>Months_on_book</th>\n",
       "      <td>10127</td>\n",
       "      <td>0.0</td>\n",
       "      <td>44</td>\n",
       "      <td>13</td>\n",
       "      <td>56</td>\n",
       "      <td>31.0</td>\n",
       "      <td>40.0</td>\n",
       "      <td>3.592841e+01</td>\n",
       "      <td>36.0</td>\n",
       "      <td>7.986416e+00</td>\n",
       "    </tr>\n",
       "    <tr>\n",
       "      <th>Total_Relationship_Count</th>\n",
       "      <td>10127</td>\n",
       "      <td>0.0</td>\n",
       "      <td>6</td>\n",
       "      <td>1</td>\n",
       "      <td>6</td>\n",
       "      <td>3.0</td>\n",
       "      <td>5.0</td>\n",
       "      <td>3.812580e+00</td>\n",
       "      <td>4.0</td>\n",
       "      <td>1.554408e+00</td>\n",
       "    </tr>\n",
       "    <tr>\n",
       "      <th>Months_Inactive_12_mon</th>\n",
       "      <td>10127</td>\n",
       "      <td>0.0</td>\n",
       "      <td>7</td>\n",
       "      <td>0</td>\n",
       "      <td>6</td>\n",
       "      <td>2.0</td>\n",
       "      <td>3.0</td>\n",
       "      <td>2.341167e+00</td>\n",
       "      <td>2.0</td>\n",
       "      <td>1.010622e+00</td>\n",
       "    </tr>\n",
       "  </tbody>\n",
       "</table>\n",
       "</div>"
      ],
      "text/plain": [
       "                          TotNrVl  Percent_missing  Cardinality        Min  \\\n",
       "CLIENTNUM                   10127              0.0        10127  708082083   \n",
       "Customer_Age                10127              0.0           45         26   \n",
       "Dependent_count             10127              0.0            6          0   \n",
       "Months_on_book              10127              0.0           44         13   \n",
       "Total_Relationship_Count    10127              0.0            6          1   \n",
       "Months_Inactive_12_mon      10127              0.0            7          0   \n",
       "\n",
       "                                Max           Q1           Q3       Average  \\\n",
       "CLIENTNUM                 828343083  713036770.5  773143533.0  7.391776e+08   \n",
       "Customer_Age                     73         41.0         52.0  4.632596e+01   \n",
       "Dependent_count                   5          1.0          3.0  2.346203e+00   \n",
       "Months_on_book                   56         31.0         40.0  3.592841e+01   \n",
       "Total_Relationship_Count          6          3.0          5.0  3.812580e+00   \n",
       "Months_Inactive_12_mon            6          2.0          3.0  2.341167e+00   \n",
       "\n",
       "                               Median  StandDeviation  \n",
       "CLIENTNUM                 717926358.0    3.690378e+07  \n",
       "Customer_Age                     46.0    8.016814e+00  \n",
       "Dependent_count                   2.0    1.298908e+00  \n",
       "Months_on_book                   36.0    7.986416e+00  \n",
       "Total_Relationship_Count          4.0    1.554408e+00  \n",
       "Months_Inactive_12_mon            2.0    1.010622e+00  "
      ]
     },
     "metadata": {},
     "output_type": "display_data"
    }
   ],
   "source": [
    "#TABLE NUMERIC DATAFRAME\n",
    "TableNdf = pd.DataFrame({'TotNrVl': TotNrVl,\n",
    "                       'Percent_missing': percent_missing,\n",
    "                       'Cardinality': cardinality,\n",
    "                       'Min': minimum,\n",
    "                       'Max': maximum,\n",
    "                       'Q1': q1,\n",
    "                       'Q3': q3,\n",
    "                       'Average': average,\n",
    "                       'Median': median,\n",
    "                       'StandDeviation': standDeviation\n",
    "                      })\n",
    "display(TableNdf)"
   ]
  },
  {
   "cell_type": "code",
   "execution_count": 4,
   "metadata": {},
   "outputs": [],
   "source": [
    "#OTHER LITERAL DATAFRAME\n",
    "def get_Mode1(df) -> list:\n",
    "    res = []\n",
    "    for index, column in enumerate(df):\n",
    "        frequencies = df[column].value_counts()\n",
    "        res.append(frequencies.index[0])\n",
    "    return res\n",
    "\n",
    "def get_FreqMode1(df) -> list:\n",
    "    res = []\n",
    "    for index, column in enumerate(df):\n",
    "        frequencies = df[column].value_counts()\n",
    "        res.append(frequencies[0])\n",
    "    return res\n",
    "\n",
    "def get_PercMode1(df) -> list:\n",
    "    res = []\n",
    "    for index, column in enumerate(df):\n",
    "        frequencies = df[column].value_counts()\n",
    "        res.append((frequencies[0] / len(df)) * 100)\n",
    "    return res\n",
    "def get_Mode2(df) -> list:\n",
    "    res = []\n",
    "    for index, column in enumerate(df):\n",
    "        frequencies = df[column].value_counts()\n",
    "        res.append(frequencies.index[0])\n",
    "    return res\n",
    "\n",
    "def get_FreqMode2(df) -> list:\n",
    "    res = []\n",
    "    for index, column in enumerate(df):\n",
    "        frequencies = df[column].value_counts()\n",
    "        res.append(frequencies[1])\n",
    "    return res\n",
    "\n",
    "def get_PercMode2(df) -> list:\n",
    "    res = []\n",
    "    for index, column in enumerate(df):\n",
    "        frequencies = df[column].value_counts()\n",
    "        res.append((frequencies[1] / len(df)) * 100)\n",
    "    return res"
   ]
  },
  {
   "cell_type": "code",
   "execution_count": 5,
   "metadata": {},
   "outputs": [],
   "source": [
    "#LITERAL DATAFRAME\n",
    "TotNrVl = Ldf.count(0)\n",
    "percent_missing = Ldf.isnull().sum() * 100 / len(df)\n",
    "cardinality = Ldf.nunique(axis=0, dropna=True)"
   ]
  },
  {
   "cell_type": "code",
   "execution_count": 6,
   "metadata": {},
   "outputs": [
    {
     "data": {
      "text/html": [
       "<div>\n",
       "<style scoped>\n",
       "    .dataframe tbody tr th:only-of-type {\n",
       "        vertical-align: middle;\n",
       "    }\n",
       "\n",
       "    .dataframe tbody tr th {\n",
       "        vertical-align: top;\n",
       "    }\n",
       "\n",
       "    .dataframe thead th {\n",
       "        text-align: right;\n",
       "    }\n",
       "</style>\n",
       "<table border=\"1\" class=\"dataframe\">\n",
       "  <thead>\n",
       "    <tr style=\"text-align: right;\">\n",
       "      <th></th>\n",
       "      <th>TotNrVl</th>\n",
       "      <th>Percent_missing</th>\n",
       "      <th>Cardinality</th>\n",
       "      <th>Mode1</th>\n",
       "      <th>FreqMode1</th>\n",
       "      <th>PercMode1</th>\n",
       "      <th>Mode2</th>\n",
       "      <th>FreqMode2</th>\n",
       "      <th>PercMode2</th>\n",
       "    </tr>\n",
       "  </thead>\n",
       "  <tbody>\n",
       "    <tr>\n",
       "      <th>Attrition_Flag</th>\n",
       "      <td>10127</td>\n",
       "      <td>0.0</td>\n",
       "      <td>2</td>\n",
       "      <td>Existing Customer</td>\n",
       "      <td>8500</td>\n",
       "      <td>83.934038</td>\n",
       "      <td>Existing Customer</td>\n",
       "      <td>1627</td>\n",
       "      <td>16.065962</td>\n",
       "    </tr>\n",
       "    <tr>\n",
       "      <th>Gender</th>\n",
       "      <td>10127</td>\n",
       "      <td>0.0</td>\n",
       "      <td>2</td>\n",
       "      <td>F</td>\n",
       "      <td>5358</td>\n",
       "      <td>52.908068</td>\n",
       "      <td>F</td>\n",
       "      <td>4769</td>\n",
       "      <td>47.091932</td>\n",
       "    </tr>\n",
       "    <tr>\n",
       "      <th>Education_Level</th>\n",
       "      <td>10127</td>\n",
       "      <td>0.0</td>\n",
       "      <td>7</td>\n",
       "      <td>Graduate</td>\n",
       "      <td>3128</td>\n",
       "      <td>30.887726</td>\n",
       "      <td>Graduate</td>\n",
       "      <td>2013</td>\n",
       "      <td>19.877555</td>\n",
       "    </tr>\n",
       "    <tr>\n",
       "      <th>Marital_Status</th>\n",
       "      <td>10127</td>\n",
       "      <td>0.0</td>\n",
       "      <td>4</td>\n",
       "      <td>Married</td>\n",
       "      <td>4687</td>\n",
       "      <td>46.282216</td>\n",
       "      <td>Married</td>\n",
       "      <td>3943</td>\n",
       "      <td>38.935519</td>\n",
       "    </tr>\n",
       "    <tr>\n",
       "      <th>Income_Category</th>\n",
       "      <td>10127</td>\n",
       "      <td>0.0</td>\n",
       "      <td>6</td>\n",
       "      <td>Less than $40K</td>\n",
       "      <td>3561</td>\n",
       "      <td>35.163425</td>\n",
       "      <td>Less than $40K</td>\n",
       "      <td>1790</td>\n",
       "      <td>17.675521</td>\n",
       "    </tr>\n",
       "    <tr>\n",
       "      <th>Card_Category</th>\n",
       "      <td>10127</td>\n",
       "      <td>0.0</td>\n",
       "      <td>4</td>\n",
       "      <td>Blue</td>\n",
       "      <td>9436</td>\n",
       "      <td>93.176656</td>\n",
       "      <td>Blue</td>\n",
       "      <td>555</td>\n",
       "      <td>5.480399</td>\n",
       "    </tr>\n",
       "  </tbody>\n",
       "</table>\n",
       "</div>"
      ],
      "text/plain": [
       "                 TotNrVl  Percent_missing  Cardinality              Mode1  \\\n",
       "Attrition_Flag     10127              0.0            2  Existing Customer   \n",
       "Gender             10127              0.0            2                  F   \n",
       "Education_Level    10127              0.0            7           Graduate   \n",
       "Marital_Status     10127              0.0            4            Married   \n",
       "Income_Category    10127              0.0            6     Less than $40K   \n",
       "Card_Category      10127              0.0            4               Blue   \n",
       "\n",
       "                 FreqMode1  PercMode1              Mode2  FreqMode2  PercMode2  \n",
       "Attrition_Flag        8500  83.934038  Existing Customer       1627  16.065962  \n",
       "Gender                5358  52.908068                  F       4769  47.091932  \n",
       "Education_Level       3128  30.887726           Graduate       2013  19.877555  \n",
       "Marital_Status        4687  46.282216            Married       3943  38.935519  \n",
       "Income_Category       3561  35.163425     Less than $40K       1790  17.675521  \n",
       "Card_Category         9436  93.176656               Blue        555   5.480399  "
      ]
     },
     "metadata": {},
     "output_type": "display_data"
    }
   ],
   "source": [
    "#TABLE LITERAL DATAFRAME\n",
    "TableLdf = pd.DataFrame({'TotNrVl': TotNrVl,\n",
    "                       'Percent_missing': percent_missing,\n",
    "                       'Cardinality': cardinality,\n",
    "                       'Mode1': get_Mode1(Ldf),\n",
    "                       'FreqMode1': get_FreqMode1(Ldf),\n",
    "                       'PercMode1': get_PercMode1(Ldf),\n",
    "                       'Mode2': get_Mode2(Ldf),\n",
    "                       'FreqMode2': get_FreqMode2(Ldf),\n",
    "                       'PercMode2': get_PercMode2(Ldf)\n",
    "                      })\n",
    "display(TableLdf)"
   ]
  },
  {
   "cell_type": "code",
   "execution_count": 7,
   "metadata": {},
   "outputs": [
    {
     "data": {
      "image/png": "[encoded data removed]",
      "text/plain": [
       "<Figure size 360x360 with 1 Axes>"
      ]
     },
     "metadata": {
      "needs_background": "light"
     },
     "output_type": "display_data"
    },
    {
     "data": {
      "text/markdown": [
       "This histogram shows how the bank numbers its employees starting from 0, it is not particularly relevant"
      ],
      "text/plain": [
       "<IPython.core.display.Markdown object>"
      ]
     },
     "metadata": {},
     "output_type": "display_data"
    },
    {
     "data": {
      "image/png": "[encoded data removed]",
      "text/plain": [
       "<Figure size 360x360 with 1 Axes>"
      ]
     },
     "metadata": {
      "needs_background": "light"
     },
     "output_type": "display_data"
    },
    {
     "data": {
      "text/markdown": [
       "This histogram shows that the majority of users have an average age of around 40 years"
      ],
      "text/plain": [
       "<IPython.core.display.Markdown object>"
      ]
     },
     "metadata": {},
     "output_type": "display_data"
    },
    {
     "data": {
      "image/png": "[encoded data removed]",
      "text/plain": [
       "<Figure size 432x288 with 1 Axes>"
      ]
     },
     "metadata": {
      "needs_background": "light"
     },
     "output_type": "display_data"
    },
    {
     "data": {
      "text/markdown": [
       "This histogram shows that the distribution of accounts between the gender is fairly even, albeit in favor of men"
      ],
      "text/plain": [
       "<IPython.core.display.Markdown object>"
      ]
     },
     "metadata": {},
     "output_type": "display_data"
    },
    {
     "data": {
      "image/png": "[encoded data removed]",
      "text/plain": [
       "<Figure size 360x360 with 1 Axes>"
      ]
     },
     "metadata": {
      "needs_background": "light"
     },
     "output_type": "display_data"
    },
    {
     "data": {
      "text/markdown": [
       "This histogram shows how the bank numbers its employees starting from 0, it is not particularly relevant"
      ],
      "text/plain": [
       "<IPython.core.display.Markdown object>"
      ]
     },
     "metadata": {},
     "output_type": "display_data"
    },
    {
     "data": {
      "image/png": "[encoded data removed]",
      "text/plain": [
       "<Figure size 360x360 with 1 Axes>"
      ]
     },
     "metadata": {
      "needs_background": "light"
     },
     "output_type": "display_data"
    },
    {
     "data": {
      "text/markdown": [
       "This histogram shows that the majority of customers have had an active expense for several months"
      ],
      "text/plain": [
       "<IPython.core.display.Markdown object>"
      ]
     },
     "metadata": {},
     "output_type": "display_data"
    },
    {
     "data": {
      "image/png": "[encoded data removed]",
      "text/plain": [
       "<Figure size 360x360 with 1 Axes>"
      ]
     },
     "metadata": {
      "needs_background": "light"
     },
     "output_type": "display_data"
    },
    {
     "data": {
      "text/markdown": [
       "This histogram highlights that there is no particular link between user and a specific number of relationships"
      ],
      "text/plain": [
       "<IPython.core.display.Markdown object>"
      ]
     },
     "metadata": {},
     "output_type": "display_data"
    },
    {
     "data": {
      "image/png": "[encoded data removed]",
      "text/plain": [
       "<Figure size 360x360 with 1 Axes>"
      ]
     },
     "metadata": {
      "needs_background": "light"
     },
     "output_type": "display_data"
    },
    {
     "data": {
      "text/markdown": [
       "This histogram shows that the period of inactivity of the account does not extend for a long time, perhaps it is due to the intervention of the bank"
      ],
      "text/plain": [
       "<IPython.core.display.Markdown object>"
      ]
     },
     "metadata": {},
     "output_type": "display_data"
    },
    {
     "data": {
      "text/markdown": [
       "Pay attention:"
      ],
      "text/plain": [
       "<IPython.core.display.Markdown object>"
      ]
     },
     "metadata": {},
     "output_type": "display_data"
    },
    {
     "data": {
      "text/markdown": [
       "There are no values missing. So there is to be done."
      ],
      "text/plain": [
       "<IPython.core.display.Markdown object>"
      ]
     },
     "metadata": {},
     "output_type": "display_data"
    },
    {
     "data": {
      "text/markdown": [
       "There are some outliers that should be removed."
      ],
      "text/plain": [
       "<IPython.core.display.Markdown object>"
      ]
     },
     "metadata": {},
     "output_type": "display_data"
    },
    {
     "data": {
      "text/markdown": [
       "I have removed all coloums where the name is longer than 30. They are not important."
      ],
      "text/plain": [
       "<IPython.core.display.Markdown object>"
      ]
     },
     "metadata": {},
     "output_type": "display_data"
    },
    {
     "data": {
      "text/markdown": [
       "The calculation of certain functions has sometimes proved complex due to the nature of the data, not \"int\"."
      ],
      "text/plain": [
       "<IPython.core.display.Markdown object>"
      ]
     },
     "metadata": {},
     "output_type": "display_data"
    }
   ],
   "source": [
    "ClientNum = df.hist(column='CLIENTNUM', xlabelsize=1, ylabelsize=1, figsize=[5,5])\n",
    "plt.show()\n",
    "display(Markdown('This histogram shows how the bank numbers its employees starting from 0, it is not particularly relevant'))\n",
    "\n",
    "#attrition_flag = df.hist(column='Attrition_Flag', xlabelsize=1, ylabelsize=1, figsize=[5,5])\n",
    "customer_Age = df.hist(column='Customer_Age', xlabelsize=1, ylabelsize=1, figsize=[5,5])     \n",
    "plt.show()\n",
    "display(Markdown('This histogram shows that the majority of users have an average age of around 40 years'))\n",
    "\n",
    "Mfunc = df[df[\"Gender\"]==\"F\"].count()\n",
    "MfuncVal = int(Mfunc[1])\n",
    "Ffunc = df[df[\"Gender\"]==\"M\"].count()\n",
    "FfuncVal = int(Ffunc[1])\n",
    "vals=[MfuncVal,FfuncVal]\n",
    "inds=range(len(vals))\n",
    "labels=[\"MALE\",\"FEMALE\"]\n",
    "fig,ax = plt.subplots()\n",
    "rects = ax.bar(inds, vals)\n",
    "Res1 = ax.set_xticks([ind+0.5 for ind in inds])\n",
    "Res2 = ax.set_xticklabels(labels)    \n",
    "plt.show()\n",
    "display(Markdown('This histogram shows that the distribution of accounts between the gender is fairly even, albeit in favor of men'))\n",
    "\n",
    "\n",
    "dependent_count = df.hist(column='Dependent_count', xlabelsize=1, ylabelsize=1, figsize=[5,5])\n",
    "plt.show()\n",
    "display(Markdown('This histogram shows how the bank numbers its employees starting from 0, it is not particularly relevant'))\n",
    "\n",
    "#education_level = df.hist(column='Education_Level', xlabelsize=1, ylabelsize=1, figsize=[5,5])\n",
    "#marital_status = df.hist(column='Marital_Status', xlabelsize=1, ylabelsize=1, figsize=[5,5])\n",
    "#income_category = df.hist(column='Income_Category', xlabelsize=1, ylabelsize=1, figsize=[5,5])\n",
    "#card_category = df.hist(column='Card_Category ', xlabelsize=1, ylabelsize=1, figsize=[5,5])\n",
    "months_on_book = df.hist(column='Months_on_book', xlabelsize=1, ylabelsize=1, figsize=[5,5])\n",
    "plt.show()\n",
    "display(Markdown('This histogram shows that the majority of customers have had an active expense for several months'))\n",
    "\n",
    "total_Relationship_count = df.hist(column='Total_Relationship_Count', xlabelsize=1, ylabelsize=1, figsize=[5,5])\n",
    "plt.show()\n",
    "display(Markdown('This histogram highlights that there is no particular link between user and a specific number of relationships'))\n",
    "\n",
    "months_inactive_12_mon = df.hist(column='Months_Inactive_12_mon', xlabelsize=1, ylabelsize=1, figsize=[5,5])\n",
    "plt.show()\n",
    "display(Markdown('This histogram shows that the period of inactivity of the account does not extend for a long time, perhaps it is due to the intervention of the bank'))\n",
    "\n",
    "display(Markdown('Pay attention:'))\n",
    "display(Markdown('There are no values missing. So there is to be done.'))\n",
    "display(Markdown('There are some outliers that should be removed.'))\n",
    "display(Markdown('I have removed all coloums where the name is longer than 30. They are not important.'))\n",
    "display(Markdown('The calculation of certain functions has sometimes proved complex due to the nature of the data, not \"int\".'))"
   ]
  },
  {
   "cell_type": "code",
   "execution_count": 8,
   "metadata": {},
   "outputs": [
    {
     "data": {
      "image/png": "[encoded data removed]",
      "text/plain": [
       "<Figure size 432x288 with 1 Axes>"
      ]
     },
     "metadata": {
      "needs_background": "light"
     },
     "output_type": "display_data"
    },
    {
     "data": {
      "text/markdown": [
       "This scatter plot shows that there is no particular correlation between the months on book and the number of user relationships"
      ],
      "text/plain": [
       "<IPython.core.display.Markdown object>"
      ]
     },
     "metadata": {},
     "output_type": "display_data"
    },
    {
     "data": {
      "image/png": "[encoded data removed]",
      "text/plain": [
       "<Figure size 432x288 with 1 Axes>"
      ]
     },
     "metadata": {
      "needs_background": "light"
     },
     "output_type": "display_data"
    },
    {
     "data": {
      "text/markdown": [
       "This scatter plot shows that the most anxious clients are men"
      ],
      "text/plain": [
       "<IPython.core.display.Markdown object>"
      ]
     },
     "metadata": {},
     "output_type": "display_data"
    },
    {
     "data": {
      "image/png": "[encoded data removed]",
      "text/plain": [
       "<Figure size 432x288 with 1 Axes>"
      ]
     },
     "metadata": {
      "needs_background": "light"
     },
     "output_type": "display_data"
    },
    {
     "data": {
      "text/markdown": [
       "This scatter plot highlights that there is no particular correlation between gender and educational qualification in banking profiles"
      ],
      "text/plain": [
       "<IPython.core.display.Markdown object>"
      ]
     },
     "metadata": {},
     "output_type": "display_data"
    }
   ],
   "source": [
    "#SCATTERPLOT\n",
    "sp1= df.plot.scatter('Months_on_book','Total_Relationship_Count')\n",
    "plt.show()\n",
    "display(Markdown('This scatter plot shows that there is no particular correlation between the months on book and the number of user relationships'))\n",
    "\n",
    "sp2= df.plot.scatter('Customer_Age','Gender')\n",
    "plt.show()\n",
    "display(Markdown('This scatter plot shows that the most anxious clients are men'))\n",
    "\n",
    "sp3= df.plot.scatter('Education_Level','Gender')\n",
    "plt.show()\n",
    "display(Markdown('This scatter plot highlights that there is no particular correlation between gender and educational qualification in banking profiles'))"
   ]
  },
  {
   "cell_type": "code",
   "execution_count": 9,
   "metadata": {},
   "outputs": [
    {
     "data": {
      "text/html": [
       "<div>\n",
       "<style scoped>\n",
       "    .dataframe tbody tr th:only-of-type {\n",
       "        vertical-align: middle;\n",
       "    }\n",
       "\n",
       "    .dataframe tbody tr th {\n",
       "        vertical-align: top;\n",
       "    }\n",
       "\n",
       "    .dataframe thead th {\n",
       "        text-align: right;\n",
       "    }\n",
       "</style>\n",
       "<table border=\"1\" class=\"dataframe\">\n",
       "  <thead>\n",
       "    <tr style=\"text-align: right;\">\n",
       "      <th></th>\n",
       "      <th>CLIENTNUM</th>\n",
       "      <th>Customer_Age</th>\n",
       "      <th>Dependent_count</th>\n",
       "      <th>Months_on_book</th>\n",
       "      <th>Total_Relationship_Count</th>\n",
       "      <th>Months_Inactive_12_mon</th>\n",
       "    </tr>\n",
       "  </thead>\n",
       "  <tbody>\n",
       "    <tr>\n",
       "      <th>CLIENTNUM</th>\n",
       "      <td>1.361889e+15</td>\n",
       "      <td>2.252209e+06</td>\n",
       "      <td>324600.732489</td>\n",
       "      <td>3.966693e+07</td>\n",
       "      <td>396204.467439</td>\n",
       "      <td>213649.963677</td>\n",
       "    </tr>\n",
       "    <tr>\n",
       "      <th>Customer_Age</th>\n",
       "      <td>2.252209e+06</td>\n",
       "      <td>6.426931e+01</td>\n",
       "      <td>-1.273041</td>\n",
       "      <td>5.051060e+01</td>\n",
       "      <td>-0.136216</td>\n",
       "      <td>0.440431</td>\n",
       "    </tr>\n",
       "    <tr>\n",
       "      <th>Dependent_count</th>\n",
       "      <td>3.246007e+05</td>\n",
       "      <td>-1.273041e+00</td>\n",
       "      <td>1.687163</td>\n",
       "      <td>-1.069129e+00</td>\n",
       "      <td>-0.078897</td>\n",
       "      <td>-0.014135</td>\n",
       "    </tr>\n",
       "    <tr>\n",
       "      <th>Months_on_book</th>\n",
       "      <td>3.966693e+07</td>\n",
       "      <td>5.051060e+01</td>\n",
       "      <td>-1.069129</td>\n",
       "      <td>6.378285e+01</td>\n",
       "      <td>-0.114248</td>\n",
       "      <td>0.598592</td>\n",
       "    </tr>\n",
       "    <tr>\n",
       "      <th>Total_Relationship_Count</th>\n",
       "      <td>3.962045e+05</td>\n",
       "      <td>-1.362164e-01</td>\n",
       "      <td>-0.078897</td>\n",
       "      <td>-1.142484e-01</td>\n",
       "      <td>2.416184</td>\n",
       "      <td>-0.005774</td>\n",
       "    </tr>\n",
       "    <tr>\n",
       "      <th>Months_Inactive_12_mon</th>\n",
       "      <td>2.136500e+05</td>\n",
       "      <td>4.404313e-01</td>\n",
       "      <td>-0.014135</td>\n",
       "      <td>5.985924e-01</td>\n",
       "      <td>-0.005774</td>\n",
       "      <td>1.021358</td>\n",
       "    </tr>\n",
       "  </tbody>\n",
       "</table>\n",
       "</div>"
      ],
      "text/plain": [
       "                             CLIENTNUM  Customer_Age  Dependent_count  \\\n",
       "CLIENTNUM                 1.361889e+15  2.252209e+06    324600.732489   \n",
       "Customer_Age              2.252209e+06  6.426931e+01        -1.273041   \n",
       "Dependent_count           3.246007e+05 -1.273041e+00         1.687163   \n",
       "Months_on_book            3.966693e+07  5.051060e+01        -1.069129   \n",
       "Total_Relationship_Count  3.962045e+05 -1.362164e-01        -0.078897   \n",
       "Months_Inactive_12_mon    2.136500e+05  4.404313e-01        -0.014135   \n",
       "\n",
       "                          Months_on_book  Total_Relationship_Count  \\\n",
       "CLIENTNUM                   3.966693e+07             396204.467439   \n",
       "Customer_Age                5.051060e+01                 -0.136216   \n",
       "Dependent_count            -1.069129e+00                 -0.078897   \n",
       "Months_on_book              6.378285e+01                 -0.114248   \n",
       "Total_Relationship_Count   -1.142484e-01                  2.416184   \n",
       "Months_Inactive_12_mon      5.985924e-01                 -0.005774   \n",
       "\n",
       "                          Months_Inactive_12_mon  \n",
       "CLIENTNUM                          213649.963677  \n",
       "Customer_Age                            0.440431  \n",
       "Dependent_count                        -0.014135  \n",
       "Months_on_book                          0.598592  \n",
       "Total_Relationship_Count               -0.005774  \n",
       "Months_Inactive_12_mon                  1.021358  "
      ]
     },
     "metadata": {},
     "output_type": "display_data"
    }
   ],
   "source": [
    "#COVIARIANCE\n",
    "display(df.cov())"
   ]
  },
  {
   "cell_type": "code",
   "execution_count": 10,
   "metadata": {},
   "outputs": [
    {
     "data": {
      "text/html": [
       "<div>\n",
       "<style scoped>\n",
       "    .dataframe tbody tr th:only-of-type {\n",
       "        vertical-align: middle;\n",
       "    }\n",
       "\n",
       "    .dataframe tbody tr th {\n",
       "        vertical-align: top;\n",
       "    }\n",
       "\n",
       "    .dataframe thead th {\n",
       "        text-align: right;\n",
       "    }\n",
       "</style>\n",
       "<table border=\"1\" class=\"dataframe\">\n",
       "  <thead>\n",
       "    <tr style=\"text-align: right;\">\n",
       "      <th></th>\n",
       "      <th>CLIENTNUM</th>\n",
       "      <th>Customer_Age</th>\n",
       "      <th>Dependent_count</th>\n",
       "      <th>Months_on_book</th>\n",
       "      <th>Total_Relationship_Count</th>\n",
       "      <th>Months_Inactive_12_mon</th>\n",
       "    </tr>\n",
       "  </thead>\n",
       "  <tbody>\n",
       "    <tr>\n",
       "      <th>CLIENTNUM</th>\n",
       "      <td>1.000000</td>\n",
       "      <td>0.007613</td>\n",
       "      <td>0.006772</td>\n",
       "      <td>0.134588</td>\n",
       "      <td>0.006907</td>\n",
       "      <td>0.005729</td>\n",
       "    </tr>\n",
       "    <tr>\n",
       "      <th>Customer_Age</th>\n",
       "      <td>0.007613</td>\n",
       "      <td>1.000000</td>\n",
       "      <td>-0.122254</td>\n",
       "      <td>0.788912</td>\n",
       "      <td>-0.010931</td>\n",
       "      <td>0.054361</td>\n",
       "    </tr>\n",
       "    <tr>\n",
       "      <th>Dependent_count</th>\n",
       "      <td>0.006772</td>\n",
       "      <td>-0.122254</td>\n",
       "      <td>1.000000</td>\n",
       "      <td>-0.103062</td>\n",
       "      <td>-0.039076</td>\n",
       "      <td>-0.010768</td>\n",
       "    </tr>\n",
       "    <tr>\n",
       "      <th>Months_on_book</th>\n",
       "      <td>0.134588</td>\n",
       "      <td>0.788912</td>\n",
       "      <td>-0.103062</td>\n",
       "      <td>1.000000</td>\n",
       "      <td>-0.009203</td>\n",
       "      <td>0.074164</td>\n",
       "    </tr>\n",
       "    <tr>\n",
       "      <th>Total_Relationship_Count</th>\n",
       "      <td>0.006907</td>\n",
       "      <td>-0.010931</td>\n",
       "      <td>-0.039076</td>\n",
       "      <td>-0.009203</td>\n",
       "      <td>1.000000</td>\n",
       "      <td>-0.003675</td>\n",
       "    </tr>\n",
       "    <tr>\n",
       "      <th>Months_Inactive_12_mon</th>\n",
       "      <td>0.005729</td>\n",
       "      <td>0.054361</td>\n",
       "      <td>-0.010768</td>\n",
       "      <td>0.074164</td>\n",
       "      <td>-0.003675</td>\n",
       "      <td>1.000000</td>\n",
       "    </tr>\n",
       "  </tbody>\n",
       "</table>\n",
       "</div>"
      ],
      "text/plain": [
       "                          CLIENTNUM  Customer_Age  Dependent_count  \\\n",
       "CLIENTNUM                  1.000000      0.007613         0.006772   \n",
       "Customer_Age               0.007613      1.000000        -0.122254   \n",
       "Dependent_count            0.006772     -0.122254         1.000000   \n",
       "Months_on_book             0.134588      0.788912        -0.103062   \n",
       "Total_Relationship_Count   0.006907     -0.010931        -0.039076   \n",
       "Months_Inactive_12_mon     0.005729      0.054361        -0.010768   \n",
       "\n",
       "                          Months_on_book  Total_Relationship_Count  \\\n",
       "CLIENTNUM                       0.134588                  0.006907   \n",
       "Customer_Age                    0.788912                 -0.010931   \n",
       "Dependent_count                -0.103062                 -0.039076   \n",
       "Months_on_book                  1.000000                 -0.009203   \n",
       "Total_Relationship_Count       -0.009203                  1.000000   \n",
       "Months_Inactive_12_mon          0.074164                 -0.003675   \n",
       "\n",
       "                          Months_Inactive_12_mon  \n",
       "CLIENTNUM                               0.005729  \n",
       "Customer_Age                            0.054361  \n",
       "Dependent_count                        -0.010768  \n",
       "Months_on_book                          0.074164  \n",
       "Total_Relationship_Count               -0.003675  \n",
       "Months_Inactive_12_mon                  1.000000  "
      ]
     },
     "metadata": {},
     "output_type": "display_data"
    }
   ],
   "source": [
    "#CORRELATION\n",
    "display(df.corr())"
   ]
  },
  {
   "cell_type": "code",
   "execution_count": 11,
   "metadata": {},
   "outputs": [
    {
     "data": {
      "text/markdown": [
       "Data with Normalization"
      ],
      "text/plain": [
       "<IPython.core.display.Markdown object>"
      ]
     },
     "metadata": {},
     "output_type": "display_data"
    },
    {
     "data": {
      "text/plain": [
       "'Normalized Data = '"
      ]
     },
     "metadata": {},
     "output_type": "display_data"
    },
    {
     "data": {
      "text/plain": [
       "array([[1.00000000e+00, 5.85323685e-08, 3.90215790e-09, 5.07280527e-08,\n",
       "        6.50359650e-09, 1.30071930e-09],\n",
       "       [1.00000000e+00, 5.98458658e-08, 6.10672100e-09, 5.37391448e-08,\n",
       "        7.32806520e-09, 1.22134420e-09],\n",
       "       [1.00000000e+00, 7.14303614e-08, 4.20178596e-09, 5.04214316e-08,\n",
       "        5.60238129e-09, 1.40059532e-09],\n",
       "       ...,\n",
       "       [1.00000000e+00, 6.14091088e-08, 1.39566156e-09, 5.02438163e-08,\n",
       "        6.97830782e-09, 4.18698469e-09],\n",
       "       [1.00000000e+00, 4.18172679e-08, 2.78781786e-09, 5.01807215e-08,\n",
       "        5.57563572e-09, 4.18172679e-09],\n",
       "       [1.00000000e+00, 6.01956583e-08, 2.79979806e-09, 3.49974758e-08,\n",
       "        8.39939418e-09, 2.79979806e-09]])"
      ]
     },
     "metadata": {},
     "output_type": "display_data"
    }
   ],
   "source": [
    "# Data without Normalization\n",
    "#display(Markdown('Data without Normalization'))\n",
    "#print(\"Data = \", Ndf)\n",
    "\n",
    "# Data with Normalization\n",
    "display(Markdown('Data with Normalization'))\n",
    "normalized = preprocessing.normalize(Ndf)\n",
    "display(\"Normalized Data = \", normalized)"
   ]
  }
 ],
 "metadata": {
  "kernelspec": {
   "display_name": "Python 3",
   "language": "python",
   "name": "python3"
  },
  "language_info": {
   "codemirror_mode": {
    "name": "ipython",
    "version": 3
   },
   "file_extension": ".py",
   "mimetype": "text/x-python",
   "name": "python",
   "nbconvert_exporter": "python",
   "pygments_lexer": "ipython3",
   "version": "3.9.2"
  }
 },
 "nbformat": 4,
 "nbformat_minor": 4
}